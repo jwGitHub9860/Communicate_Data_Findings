{
 "cells": [
  {
   "cell_type": "markdown",
   "metadata": {},
   "source": [
    "# Part II - Common Questions about Loans\n",
    "## by Jasmine W."
   ]
  },
  {
   "cell_type": "markdown",
   "metadata": {},
   "source": [
    "## Investigation Overview\n",
    "\n",
    "\n",
    "> Describe the overall goals of your presentation here. Add a summary of key insights at the start of the notebook (i.e., an executive summary). This will help your notebook to stay aligned to the key insights you want to include in your slide deck.\n",
    "\n",
    "> **Rubric Tip**: The key insights listed here should match those documented at the conclusion of the exploratory analysis notebook. \n",
    "\n",
    "\n",
    "## Dataset Overview and Executive Summary\n",
    "\n",
    "> Briefly introduce your dataset here. Include a summary of findings that your visualizations will support.\n",
    "\n",
    "> **Rubric Tip**: The key insights can be in a bulleted or numbered list for ease of review."
   ]
  },
  {
   "cell_type": "code",
   "execution_count": 5,
   "metadata": {},
   "outputs": [],
   "source": [
    "# import all packages and set plots to be embedded inline\n",
    "import numpy as np\n",
    "import pandas as pd\n",
    "import matplotlib.pyplot as plt\n",
    "import seaborn as sns\n",
    "\n",
    "# suppress warnings from final output\n",
    "import warnings\n",
    "warnings.simplefilter(\"ignore\")"
   ]
  },
  {
   "cell_type": "code",
   "execution_count": 6,
   "metadata": {},
   "outputs": [],
   "source": [
    "import zipfile\n",
    "\n",
    "# opens zip file in read-mode\n",
    "with zipfile.ZipFile(\"prosperLoanData.zip\", \"r\") as zip_ref:\n",
    "    \n",
    "    # extracts all data in zip file\n",
    "    zip_ref.extractall(\"prosperLoanData/\")\n",
    "\n",
    "# load in the dataset into a pandas dataframe\n",
    "df_prosper_loan_data = pd.read_csv(\"prosperLoanData/prosperLoanData.csv\")\n",
    "\n",
    "\n",
    "# Code for cleaning data\n",
    "\n",
    "# drops \"CreditGrade\" column\n",
    "df_prosper_loan_data.drop(columns=[\"CreditGrade\"], inplace=True) # MUST USE \"inplace=True\" TO ENSURE DATA FRAME IS MODIFIED\n",
    "\n",
    "# drops all rows with at least 1 null value in \"LoanStatus\", \"StatedMonthlyIncome\", \"CreditScoreRangeLower\", \"CreditScoreRangeUpper\", \"AmountDelinquent\", \"IncomeVerifiable\" columns\n",
    "df_prosper_loan_data.dropna(subset=[\"LoanStatus\", \"StatedMonthlyIncome\", \"CreditScoreRangeLower\", \"CreditScoreRangeUpper\", \"AmountDelinquent\", \"IncomeVerifiable\"], inplace=True) # MUST USE \"inplace=True\" TO ENSURE DATA FRAME IS MODIFIED\n",
    "\n",
    "# drops all rows with false values under \"IncomeVerifiable\" column\n",
    "df_prosper_loan_data.drop(df_prosper_loan_data[df_prosper_loan_data[\"IncomeVerifiable\"] == 'False'].index, inplace=True) # put condition directly into code for dropping rows with false values because \"IncomeVerifiable\" column is a BOOLEAN Column (MUST USE \"inplace=True\" TO ENSURE DATA FRAME IS MODIFIED)\n",
    "\n",
    "# multiples \"StatedMonthlyIncome\" column by 12 & puts results in new column called \"YearlyIncome\"\n",
    "df_prosper_loan_data[\"YearlyIncome\"] = df_prosper_loan_data[\"StatedMonthlyIncome\"].mul(12)\n",
    "\n",
    "# condition that checks if only Completed loans have Closed Dates\n",
    "incomplete_loan_with_close_date_condition = df_prosper_loan_data[(df_prosper_loan_data[\"ClosedDate\"].notna()) & (df_prosper_loan_data[\"LoanStatus\"] != 'Completed')].index # used \".index\" because condition will be used under \"index\" section in \".drop\"\n",
    "\n",
    "# drops rows that have Closed Dates when they are NOT Completed loans\n",
    "df_prosper_loan_data.drop(incomplete_loan_with_close_date_condition, inplace=True) # MUST USE \"inplace=True\" TO ENSURE DATA FRAME IS MODIFIED\n",
    "\n",
    "# condition that checks if only Completed loans have Closed Dates\n",
    "complete_loan_without_close_date_condition = df_prosper_loan_data[(df_prosper_loan_data[\"ClosedDate\"].isnull()) & (df_prosper_loan_data[\"LoanStatus\"] == 'Completed')].index # used \".index\" because condition will be used under \"index\" section in \".drop\"\n",
    "\n",
    "# drops rows that have Closed Dates when they are NOT Completed loans\n",
    "df_prosper_loan_data.drop(complete_loan_without_close_date_condition, inplace=True) # MUST USE \"inplace=True\" TO ENSURE DATA FRAME IS MODIFIED\n",
    "\n",
    "# finds median of \"CreditScoreRangeLower\" and \"CreditScoreRangeUpper\" columns & puts results in new column called \"CreditScore\"\n",
    "df_prosper_loan_data[\"CreditScore\"] = df_prosper_loan_data[[\"CreditScoreRangeLower\", \"CreditScoreRangeUpper\"]].median(axis=1)\n",
    "\n",
    "# condition that checks if credit scores are within 300-850\n",
    "credit_score_range_condition = df_prosper_loan_data[(df_prosper_loan_data[\"CreditScore\"] < 300) | (df_prosper_loan_data[\"CreditScore\"] > 850)].index # used \".index\" because condition will be used under \"index\" section in \".drop\"\n",
    "\n",
    "# drops rows that have Credit Scores that are NOT within 300-850\n",
    "df_prosper_loan_data.drop(credit_score_range_condition, inplace=True) # MUST USE \"inplace=True\" TO ENSURE DATA FRAME IS MODIFIED\n",
    "\n",
    "# condition that checks if Loan Terms are either 24, 36, 48, 60, 72 or 84\n",
    "loan_term_range_condition = df_prosper_loan_data[(df_prosper_loan_data[\"Term\"] != 24) & (df_prosper_loan_data[\"Term\"] != 36) & (df_prosper_loan_data[\"Term\"] != 48) & (df_prosper_loan_data[\"Term\"] != 60) & (df_prosper_loan_data[\"Term\"] != 72) & (df_prosper_loan_data[\"Term\"] != 84)].index # used \".index\" because condition will be used under \"index\" section in \".drop\"\n",
    "\n",
    "# drops rows that have Loan Terms that are NOT either 24, 36, 48, 60, 72 or 84\n",
    "df_prosper_loan_data.drop(loan_term_range_condition, inplace=True) # MUST USE \"inplace=True\" TO ENSURE DATA FRAME IS MODIFIED"
   ]
  },
  {
   "cell_type": "markdown",
   "metadata": {},
   "source": [
    "## (Visualization 1)\n",
    "\n",
    "> Write a comment about your visualization here.  Make sure your visualizations are polished!\n",
    "\n",
    "> **Rubric Tip**: Provide at least 3 **polished** visualizations to convey key insights. The total number of visualizations shoould be less than 50% of the number of visualizations in the exploratory analysis. Generally 3-5 visualizations suffice.\n",
    "\n",
    "\n",
    "> **Rubric Tip**: Each visualization in the slideshow is associated with **descriptive comments** that accurately depict their purpose and your observation. \n",
    "\n",
    "\n",
    "> **Rubric Tip**: All plots shown are appropriate, meaning the plot type, encodings, and transformations are suitable to the underlying data. \n",
    "\n",
    "> **Rubric Tip**: All plots in the slideshow are polished, meaning all plots have a title, labeled x/y axes (with units), x/y ticks, and legends.\n",
    "\n",
    "The first visualization answers the following question:\n",
    "\n",
    "_1. Which people tend to have fully paid off their loans: people with higher income or lower income?_\n",
    "\n",
    "by showing that **_the people with lower income tend to have their loans fully paid off_**."
   ]
  },
  {
   "cell_type": "code",
   "execution_count": null,
   "metadata": {},
   "outputs": [],
   "source": [
    "# Code for creating Histogram with amount of Completed Loans among Yearly Incomes\n",
    "\n",
    "# creates dataframe with Completed loans ONLY\n",
    "df_prosper_complete_loans_data = df_prosper_loan_data[df_prosper_loan_data[\"LoanStatus\"] == 'Completed']\n",
    "\n",
    "# creates dataframe with \"LoanStatus\" & \"YearlyIncome\" columns of Completed loans ONLY\n",
    "df_prosper_complete_loans_and_yearly_incomes_data = df_prosper_complete_loans_data[[\"LoanStatus\", \"YearlyIncome\"]]\n",
    "\n",
    "# creates & displays Histogram\n",
    "df_prosper_complete_loans_and_yearly_incomes_data.hist(xlabelsize=14, figsize=(19.5,10))\n",
    "\n",
    "# adds x-axis label to Histogram\n",
    "plt.xlabel('Yearly Income', fontsize=19)\n",
    "\n",
    "# adds y-axis label to Histogram\n",
    "plt.ylabel('Frequency', fontsize=19)\n",
    "\n",
    "# adds title to Histogram\n",
    "plt.title('Amount of Completed Loans among Yearly Incomes', fontsize=25)"
   ]
  },
  {
   "cell_type": "markdown",
   "metadata": {},
   "source": [
    "## (Visualization 2)\n",
    "\n",
    "> You should have at least three visualizations in your presentation, but feel free to add more if you'd like!"
   ]
  },
  {
   "cell_type": "code",
   "execution_count": null,
   "metadata": {},
   "outputs": [],
   "source": []
  },
  {
   "cell_type": "markdown",
   "metadata": {},
   "source": [
    "## (Visualization 3)\n",
    "\n",
    "> You should have at least three visualizations in your presentation, but feel free to add more if you'd like!"
   ]
  },
  {
   "cell_type": "code",
   "execution_count": null,
   "metadata": {},
   "outputs": [],
   "source": []
  },
  {
   "cell_type": "markdown",
   "metadata": {},
   "source": [
    "### Submission\n",
    "If you are using classroom workspace, you can choose from the following two ways of submission:\n",
    "\n",
    "1. **Submit from the workspace**. Make sure you have removed the example project from the /home/workspace directory. You must submit the following files:\n",
    "   - Part_I_notebook.ipynb\n",
    "   - Part_I_notebook.html or pdf\n",
    "   - Part_II_notebook.ipynb\n",
    "   - Part_II_notebook.html or pdf\n",
    "\n",
    "\n",
    "2. **Submit a zip file on the last page of this project lesson**. In this case, open the Jupyter terminal and run the command below to generate a ZIP file. \n",
    "```bash\n",
    "zip -r my_project.zip .\n",
    "```\n",
    "The command abobve will ZIP every file present in your /home/workspace directory. Next, you can download the zip to your local, and follow the instructions on the last page of this project lesson.\n"
   ]
  }
 ],
 "metadata": {
  "kernelspec": {
   "display_name": "Python 3 (ipykernel)",
   "language": "python",
   "name": "python3"
  },
  "language_info": {
   "codemirror_mode": {
    "name": "ipython",
    "version": 3
   },
   "file_extension": ".py",
   "mimetype": "text/x-python",
   "name": "python",
   "nbconvert_exporter": "python",
   "pygments_lexer": "ipython3",
   "version": "3.12.3"
  }
 },
 "nbformat": 4,
 "nbformat_minor": 4
}
